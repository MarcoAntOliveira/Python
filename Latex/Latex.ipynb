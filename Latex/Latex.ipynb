{
 "cells": [
  {
   "cell_type": "code",
   "execution_count": null,
   "metadata": {
    "vscode": {
     "languageId": "latex"
    }
   },
   "outputs": [],
   "source": [
    "\\documentclass{article}%\n",
    "\\usepackage[T1]{fontenc}%\n",
    "\\usepackage[utf8]{inputenc}%\n",
    "\\usepackage{lmodern}%\n",
    "\\usepackage{textcomp}%\n",
    "\\usepackage{lastpage}%\n",
    "%\n",
    "%\n",
    "%\n",
    "\\begin{document}%\n",
    "\\normalsize%\n",
    "\\section{The begin}%\n",
    "\\label{sec:Thebegin}%\n",
    "Some regular text and some %\n",
    "\\textit{italic text. }%\n",
    "\\subsection{A subsection}%\n",
    "\\label{subsec:Asubsection}%\n",
    "hello , im student of aerospace engenring\n",
    "\n",
    "%\n",
    "\\end{document}"
   ]
  },
  {
   "cell_type": "code",
   "execution_count": null,
   "metadata": {
    "vscode": {
     "languageId": "latex"
    }
   },
   "outputs": [],
   "source": [
    "from pylatex import Document, Section, Subsection, Command\n",
    "from pylatex.utils import italic, NoEscape\n",
    "\n",
    "\n",
    "def fill_document(doc):\n",
    "    \"\"\"Add a section, a subsection and some text to the document.\n",
    "\n",
    "    :param doc: the document\n",
    "    :type doc: :class:`pylatex.document.Document` instance\n",
    "    \"\"\"\n",
    "    with doc.create(Section('The begin')):\n",
    "        doc.append('Some regular text and some ')\n",
    "        doc.append(italic('italic text. '))\n",
    "\n",
    "        with doc.create(Subsection('A subsection')):\n",
    "            doc.append('hello , im student of aerospace engenring')\n",
    "\n",
    "\n",
    "if __name__ == '__main__':\n",
    "    # Basic document\n",
    "    doc = Document('basic')\n",
    "    fill_document(doc)\n",
    "\n",
    "    doc.generate_pdf(clean_tex=False)\n",
    "    doc.generate_tex()\n",
    "\n",
    "    # Document with `\\maketitle` command activated\n",
    "    doc = Document()\n",
    "\n",
    "    doc.preamble.append(Command('title', 'Awesome Title'))\n",
    "    doc.preamble.append(Command('author', 'Anonymous author'))\n",
    "    doc.preamble.append(Command('date', NoEscape(r'\\today')))\n",
    "    doc.append(NoEscape(r'\\maketitle'))\n",
    "\n",
    "    fill_document(doc)\n",
    "\n",
    "    doc.generate_pdf('basic_maketitle', clean_tex=False)\n",
    "\n",
    "    # Add stuff to the document\n",
    "    with doc.create(Section('A second section')):\n",
    "        doc.append('Some text.')\n",
    "\n",
    "    doc.generate_pdf('basic_maketitle2', clean_tex=False)\n",
    "    tex = doc.dumps()  # The document as string in LaTeX syntax"
   ]
  },
  {
   "cell_type": "code",
   "execution_count": null,
   "metadata": {
    "vscode": {
     "languageId": "latex"
    }
   },
   "outputs": [],
   "source": [
    "\\documentclass{article}%\n",
    "\\usepackage[T1]{fontenc}%\n",
    "\\usepackage[utf8]{inputenc}%\n",
    "\\usepackage{lmodern}%\n",
    "\\usepackage{textcomp}%\n",
    "\\usepackage{lastpage}%\n",
    "\\usepackage[right=2cm,left=2cm]{geometry}%\n",
    "\\usepackage{graphicx}%\n",
    "%\n",
    "%\n",
    "%\n",
    "\\begin{document}%\n",
    "\\normalsize%\n",
    "Introduction.%\n",
    "\\section{I am a section}%\n",
    "\\label{sec:Iamasection}%\n",
    "Take a look at this beautiful plot:%\n",
    "\n",
    "\n",
    "\\begin{figure}[htbp]%\n",
    "\\centering%\n",
    "\\includegraphics[width=1\\textwidth]{/tmp/pylatex/6317eb65-facc-43e3-9bec-28f80160797f.pdf}%\n",
    "\\caption{I am a caption.}%\n",
    "\\end{figure}\n",
    "\n",
    "%\n",
    "Created using matplotlib.\n",
    "\n",
    "%\n",
    "Conclusion.%\n",
    "\\end{document}"
   ]
  },
  {
   "cell_type": "code",
   "execution_count": null,
   "metadata": {},
   "outputs": [],
   "source": [
    "import matplotlib\n",
    "\n",
    "from pylatex import Document, Section, Figure, NoEscape\n",
    "\n",
    "matplotlib.use('Agg')  # Not to use X server. For TravisCI.\n",
    "import matplotlib.pyplot as plt  # noqa\n",
    "\n",
    "\n",
    "def main(fname, width, *args, **kwargs):\n",
    "    geometry_options = {\"right\": \"2cm\", \"left\": \"2cm\"}\n",
    "    doc = Document(fname, geometry_options=geometry_options)\n",
    "\n",
    "    doc.append('Introduction.')\n",
    "\n",
    "    with doc.create(Section('I am a section')):\n",
    "        doc.append('Take a look at this beautiful plot:')\n",
    "\n",
    "        with doc.create(Figure(position='htbp')) as plot:\n",
    "            plot.add_plot(width=NoEscape(width), *args, **kwargs)\n",
    "            plot.add_caption('I am a caption.')\n",
    "\n",
    "        doc.append('Created using matplotlib.')\n",
    "\n",
    "    doc.append('Conclusion.')\n",
    "\n",
    "    doc.generate_pdf(clean_tex=False)\n",
    "\n",
    "\n",
    "if __name__ == '__main__':\n",
    "    x = [0, 1, 2, 3, 4, 5, 6]\n",
    "\n",
    "    plt.plot(x, y)\n",
    "\n",
    "    main('matplotlib_ex-dpi', r'1\\textwidth', dpi=300)\n",
    "    main('matplotlib_ex-facecolor', r'0.5\\textwidth', facecolor='b')"
   ]
  },
  {
   "attachments": {},
   "cell_type": "markdown",
   "metadata": {},
   "source": [
    "O codigo python gera saída como arquivo em latex\n",
    "o segundo codigo em python gera um grafico em latex\n",
    "\n",
    " "
   ]
  }
 ],
 "metadata": {
  "kernelspec": {
   "display_name": "Python 3",
   "language": "python",
   "name": "python3"
  },
  "language_info": {
   "name": "python",
   "version": "3.11.0 (main, Oct 24 2022, 18:26:48) [MSC v.1933 64 bit (AMD64)]"
  },
  "orig_nbformat": 4,
  "vscode": {
   "interpreter": {
    "hash": "c261aea317cc0286b3b3261fbba9abdec21eaa57589985bb7a274bf54d6cc0a7"
   }
  }
 },
 "nbformat": 4,
 "nbformat_minor": 2
}
